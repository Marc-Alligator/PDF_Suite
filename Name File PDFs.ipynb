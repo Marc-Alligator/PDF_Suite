{
 "cells": [
  {
   "cell_type": "markdown",
   "id": "506605d8",
   "metadata": {},
   "source": [
    "# Name File PDFs\n",
    "## Author: 2d Lt Marc Allerheiligen, USAFA DFVR"
   ]
  },
  {
   "cell_type": "markdown",
   "id": "f9ede50c",
   "metadata": {},
   "source": [
    "This program takes a folder of arbitrarily named PDFs,\n",
    "reads the name on the orders at the ends of them,\n",
    "and puts renamed PDFs into another folder.\n",
    "\n",
    "It will send files ot 2 out folders: \n",
    "    One for verified names and one for unverified names.\n",
    "    If there is a folder for a person in the verified names folder,\n",
    "    then the program knows that that is a correct name and adds the PDF to that folder.\n",
    "        If you run the PDF splitter first, then these folders will already exist.\n",
    "    Otherwise, PDFs go into the unverified names folder for manual verification.\n"
   ]
  },
  {
   "cell_type": "markdown",
   "id": "75b02d76",
   "metadata": {},
   "source": [
    "## Library Installation"
   ]
  },
  {
   "cell_type": "markdown",
   "id": "b46e911c",
   "metadata": {},
   "source": [
    "Library installation must be run once per machine this code is used on.  \n",
    "There is no problem with running the whole file, but if the libraries are installed, then the program will run faster if you only run code after library installation."
   ]
  },
  {
   "cell_type": "markdown",
   "id": "3a5686dd",
   "metadata": {},
   "source": [
    "easyocr is finicky, which is why all potential fixes are included below."
   ]
  },
  {
   "cell_type": "code",
   "execution_count": null,
   "id": "021cef46",
   "metadata": {},
   "outputs": [],
   "source": [
    "%%capture\n",
    "!pip install torch torchvision torchaudio\n",
    "!pip install -U numpy --user # fixes easyOCR\n",
    "!pip install opencv-contrib-python\n",
    "!pip install easyocr"
   ]
  },
  {
   "cell_type": "code",
   "execution_count": null,
   "id": "acb9a7a2",
   "metadata": {},
   "outputs": [],
   "source": [
    "%%capture\n",
    "!pip install PyMuPDF"
   ]
  },
  {
   "cell_type": "markdown",
   "id": "c2b32c93",
   "metadata": {},
   "source": [
    "# Parameters"
   ]
  },
  {
   "cell_type": "code",
   "execution_count": null,
   "id": "6abfabca",
   "metadata": {},
   "outputs": [],
   "source": [
    "'''PARAMETERS'''\n",
    "IN_PATH = \"PDFs in/\"\n",
    "RAW_IMG_PATH = \"cache/images/raw/\"\n",
    "ROTATED_IMG_PATH = \"cache/images/rotated/\"\n",
    "TXT_PATH = \"cache/texts/\"\n",
    "NAMES_PATH = \"cache/names/\"\n",
    "OUT_PATH_FAIL = \"PDFs OCR failed to name/\"\n",
    "OUT_PATH_GUESSED_NAME = \"PDFs with guessed names/\"\n",
    "OUT_PATH_VERIFIED = \"PDFs named correctly/\"\n",
    "SCANNED_WRONG_PATH = \"scanned incorrectly/\"\n",
    "NEEDS_RESCAN_PATH = \"needs to be rescanned/\"\n",
    "BATCH_SIZE = 100 # passed to OCR reader call\n",
    "SHALLOW_FILE_COMPARE = False\n",
    "SUFFIX = ' (F)'\n",
    "MIN_IMG_DIMENSION = 5 # if either width or height is below this, the image is ignored.\n",
    "\n",
    "#Replace a part of a name before attempting to tell what is a middle name \n",
    "    #and what is a 2-part last name:"
   ]
  },
  {
   "cell_type": "markdown",
   "id": "a637b9e2",
   "metadata": {},
   "source": [
    "# Imports"
   ]
  },
  {
   "cell_type": "code",
   "execution_count": null,
   "id": "d57dd1f4",
   "metadata": {},
   "outputs": [],
   "source": [
    "import easyocr\n",
    "import os\n",
    "import fitz # PyMuPDF\n",
    "from tqdm import tqdm\n",
    "from PIL import Image\n",
    "from re import findall, sub\n",
    "from shutil import copy, rmtree\n",
    "from filecmp import cmp\n",
    "from unidecode import unidecode\n",
    "from time import time\n",
    "import re\n",
    "from string import punctuation"
   ]
  },
  {
   "cell_type": "markdown",
   "id": "244639b3",
   "metadata": {},
   "source": [
    "# Functions"
   ]
  },
  {
   "cell_type": "code",
   "execution_count": null,
   "id": "563c8575",
   "metadata": {},
   "outputs": [],
   "source": [
    "global TIME_SPENT_ON\n",
    "TIME_SPENT_ON = {\n",
    "    'READING TEXT':0,\n",
    "    'OCR':0,\n",
    "    'INTERPRETING TEXT':0,\n",
    "    'SANITIZING TEXT':0\n",
    "}"
   ]
  },
  {
   "cell_type": "markdown",
   "id": "d76df35b",
   "metadata": {},
   "source": [
    "## File Functions"
   ]
  },
  {
   "cell_type": "code",
   "execution_count": null,
   "id": "c7dd5902",
   "metadata": {},
   "outputs": [],
   "source": [
    "def makeFolders(filePath):\n",
    "    assert not '//' in filePath, filePath\n",
    "    folderPath = '/'.join(filePath.split('/')[:-1])+'/'\n",
    "    if not os.path.isdir(folderPath): os.makedirs(folderPath)\n",
    "\n",
    "def filePathsIn(folderPath, substringNeeded = ''):\n",
    "    if os.path.isfile(folderPath):\n",
    "        filePath = folderPath\n",
    "        if substringNeeded in filePath:\n",
    "            return [filePath]\n",
    "        return []\n",
    "    #else\n",
    "    paths = list()\n",
    "    for name in os.listdir(folderPath):\n",
    "        subPath  = folderPath + '/' + name\n",
    "        subPath = subPath.replace('//','/')\n",
    "        paths.extend(filePathsIn(subPath,substringNeeded))\n",
    "    return paths\n",
    "\n",
    "def whichPage(imagePath): return imagePath.split('page_')[1].split('_of')[0]\n",
    "def getNumPages(imagePath): return imagePath.split('of_')[1].split('_image')[0]\n",
    "\n",
    "def smartCopy(f, t):\n",
    "    makeFolders(t)\n",
    "    copy(f, t)"
   ]
  },
  {
   "cell_type": "markdown",
   "id": "312a4564",
   "metadata": {},
   "source": [
    "## Image Functions"
   ]
  },
  {
   "cell_type": "code",
   "execution_count": null,
   "id": "7558f317",
   "metadata": {},
   "outputs": [],
   "source": [
    "ROTATE = {90:Image.ROTATE_90,\n",
    "          180:Image.ROTATE_180,\n",
    "          270:Image.ROTATE_270}\n",
    "\n",
    "def makeImages(PdfPath):\n",
    "    rawImgFolderPath = PdfPath.replace(IN_PATH, RAW_IMG_PATH).split('.')[0]+'/'\n",
    "    rotatedImageFolderPath = rawImgFolderPath.replace(RAW_IMG_PATH,ROTATED_IMG_PATH)\n",
    "    imageAreas = dict()\n",
    "    doc = fitz.open(PdfPath)\n",
    "    numPages = len(doc)\n",
    "    pageNum = 0\n",
    "    for page in doc:\n",
    "        pageNum += 1\n",
    "        image_list = page.get_images()\n",
    "        if not image_list:\n",
    "            print(\"No images found on page\",pageNum,\"of PDF at:\",PdfPath)\n",
    "        for image_index, img in enumerate(image_list, start=1): # enumerate the image list\n",
    "            imageName = \"page_{:02d}_of_{:02d}_image_{:03d}\".format(pageNum,numPages,image_index)+\".png\"\n",
    "            rawImgPath = rawImgFolderPath + imageName\n",
    "            if not os.path.isfile(rawImgPath):\n",
    "                xref = img[0] # get the XREF of the image\n",
    "                pix = fitz.Pixmap(doc, xref) # create a Pixmap\n",
    "                if pix.n - pix.alpha > 3: # CMYK: convert to RGB first\n",
    "                    pix = fitz.Pixmap(fitz.csRGB, pix)\n",
    "                makeFolders(rawImgPath)\n",
    "                pix.save(rawImgPath) # save the image as png\n",
    "            imageArea = rotateImageAndGetArea(rawImgPath,page.rotation)\n",
    "            if imageArea:\n",
    "                rotatedImagePath = rotatedImageFolderPath + imageName\n",
    "                imageAreas[rotatedImagePath] = imageArea\n",
    "    return imageAreas\n",
    "\n",
    "def rotateImageAndGetArea(rawImgPath, rotation):\n",
    "    originalImage = Image.open(rawImgPath)\n",
    "    w, h = originalImage.width, originalImage.height\n",
    "    imageArea = (w * h)\n",
    "    if w < MIN_IMG_DIMENSION or h < MIN_IMG_DIMENSION:\n",
    "        return False\n",
    "    \n",
    "    rotatedImagePath = rawImgPath.replace(RAW_IMG_PATH,ROTATED_IMG_PATH)\n",
    "    if os.path.isfile(rotatedImagePath):\n",
    "        return imageArea\n",
    "    if rotation == 0:\n",
    "        rotatedImage = originalImage\n",
    "    else:\n",
    "        rotatedImage = originalImage.transpose(ROTATE[360-rotation])\n",
    "    makeFolders(rotatedImagePath)\n",
    "    rotatedImage.save(rotatedImagePath)\n",
    "    return imageArea\n",
    "\n",
    "def readImage(imgPath):\n",
    "    '''READ CACHED TEXT'''\n",
    "    textPath = imgPath.replace(ROTATED_IMG_PATH,TXT_PATH).replace('.png','.txt')\n",
    "    startTime = time()\n",
    "    global TIME_SPENT_ON\n",
    "    if os.path.isfile(textPath):\n",
    "        with open(textPath, 'r') as f:\n",
    "            result = f.read().split('\\n')\n",
    "            TIME_SPENT_ON['READING TEXT'] += (time()-startTime)\n",
    "            return result\n",
    "        print(\"An existing text file could not be read: textPath\")\n",
    "    '''OCR'''\n",
    "    startTime = time()\n",
    "    try:\n",
    "        result = OcrReader.readtext(imgPath, detail = 0, batch_size = BATCH_SIZE)\n",
    "    except:\n",
    "        print(\"Could not read:\",imgPath)\n",
    "        result = []\n",
    "    else:\n",
    "        makeFolders(textPath)\n",
    "        with open(textPath, 'w') as f: f.write('\\n'.join(result))\n",
    "    TIME_SPENT_ON['OCR'] += (time() - startTime)\n",
    "    return result"
   ]
  },
  {
   "cell_type": "markdown",
   "id": "a811737c",
   "metadata": {},
   "source": [
    "## String Functions"
   ]
  },
  {
   "cell_type": "code",
   "execution_count": null,
   "id": "37be0b55",
   "metadata": {},
   "outputs": [],
   "source": [
    "def getYearFromString(string):\n",
    "    for year in range(2023,2099):\n",
    "        if str(year) in string:\n",
    "            return str(year)\n",
    "    assert False, \"a string was passed to get the year from it, but no year was found:\"+string\n",
    "\n",
    "def sanitize(string):\n",
    "    startTime = time()\n",
    "    if type(string) == list:\n",
    "        result = string\n",
    "        return sanitize(''.join(result))\n",
    "    string = unidecode(string).lower()\n",
    "    for char in \" ,;:'\":\n",
    "        string = string.replace(char,'')\n",
    "    global TIME_SPENT_ON\n",
    "    TIME_SPENT_ON['SANITIZING TEXT'] += (time()-startTime)\n",
    "    return string\n",
    "\n",
    "def nameFormats(name):\n",
    "    # note that variable names assume 2 middle names and 2 last names\n",
    "    assert type(name) == str, name\n",
    "    assert ', ' in name\n",
    "    l = list()\n",
    "    if len(name.split(', ')[1].split(' ')) >= 2: # if middle name\n",
    "        LL, FMM = name.split(', ')\n",
    "        F = FMM.split(' ')[0]\n",
    "        LLF = LL+', '+F\n",
    "        FLL = F+' '+LL\n",
    "        l.extend([LLF,FLL])\n",
    "    FMMLL = ' '.join(reversed(name.split(', ')))\n",
    "    l.append(FMMLL)\n",
    "    return l\n",
    "\n",
    "def splitName(LLFMM):\n",
    "    assert ', ' in LLFMM\n",
    "    LL, FMM = LLFMM.split(', ')\n",
    "    if ' ' in LL:\n",
    "        if len(LL.split()[-1].replace('l','').replace('I','')) == 0:\n",
    "        # If you remove l and I and the length is 0, remove it\n",
    "            LL = LL.split()[0]\n",
    "    FMM = FMM.split(' ')\n",
    "    FM = FMM[:2]\n",
    "    FM = ' '.join(FM)\n",
    "    return (FM,LL)\n",
    "\n",
    "def nameInListInResult(verifiedNames, result):\n",
    "    # note that result can be list of strings\n",
    "    for maybeName in verifiedNames:\n",
    "        assert not '.' in maybeName, \"\"\"Please run the file organizer before this program.\n",
    "            A file was found in a year folder, but this program expects only folders.\"\"\"\n",
    "        for maybeFormat in nameFormats(maybeName):\n",
    "            if sanitize(maybeFormat) in sanitize(result):\n",
    "                verifiedName = maybeName\n",
    "                return verifiedName\n",
    "        # check for second middle name in name with format First Middle Middle last Last\n",
    "        (FM,LL) = splitName(maybeName)\n",
    "        # note that below variable names assume 2 middle names and 2 last names\n",
    "        FMMLL = ' '.join(result)\n",
    "        if FM in FMMLL and LL in FMMLL:\n",
    "            MLL = FMMLL.split(FM)[1]\n",
    "            if LL in MLL:\n",
    "                M = MLL.split(LL)[0]\n",
    "                M = M.strip()\n",
    "                if not ' ' in M:\n",
    "                    verifiedName = maybeName\n",
    "                    return verifiedName\n",
    "    return False\n",
    "\n",
    "def portionUpper(string):\n",
    "    return sum(letter.upper() == letter for letter in string) / len(string)"
   ]
  },
  {
   "cell_type": "markdown",
   "id": "d739b337",
   "metadata": {},
   "source": [
    "### String functions finding a name from a specific spot"
   ]
  },
  {
   "cell_type": "code",
   "execution_count": null,
   "id": "1f6f4e6f",
   "metadata": {},
   "outputs": [],
   "source": [
    "def flipName(name):\n",
    "    assert not ',' in name, name\n",
    "    name = name.strip()\n",
    "    split = name.split()\n",
    "    numLastNamesDict = {2:1,3:1,4:2,5:2} # assumption, counting III as a 2nd last name\n",
    "    numLastNames = numLastNamesDict[len(split)]\n",
    "    if len(split) == 3: # check for First von Last\n",
    "        if split[1].lower() == split[1]:\n",
    "            numLastNames = 2\n",
    "    FMM = split[:-numLastNames]\n",
    "    LL  = split[-numLastNames:]\n",
    "    return ' '.join(LL) + ', ' + ' '.join(FMM)\n",
    "\n",
    "def nameInOrders(result):\n",
    "    return False\n",
    "\n",
    "def nameInTranscript(result):\n",
    "    return False"
   ]
  },
  {
   "cell_type": "markdown",
   "id": "900979ee",
   "metadata": {},
   "source": [
    "## Misc Function"
   ]
  },
  {
   "cell_type": "code",
   "execution_count": null,
   "id": "36a2b94b",
   "metadata": {},
   "outputs": [],
   "source": [
    "def isOdd(i): return bool(i%2)"
   ]
  },
  {
   "cell_type": "markdown",
   "id": "ea27b3b8",
   "metadata": {},
   "source": [
    " # Main"
   ]
  },
  {
   "cell_type": "markdown",
   "id": "8bab4333",
   "metadata": {},
   "source": [
    "Find PDFs"
   ]
  },
  {
   "cell_type": "code",
   "execution_count": null,
   "id": "33b64a58",
   "metadata": {},
   "outputs": [],
   "source": [
    "print(\"Finding input PDFs...\")\n",
    "inPdfs = filePathsIn(IN_PATH)\n",
    "print(\"Found\",len(inPdfs),\"input PDFs.\")\n",
    "print(\"Finding processed PDFs\")\n",
    "verifiedPdfPaths = [OUT_PATH_VERIFIED, NEEDS_RESCAN_PATH, SCANNED_WRONG_PATH]\n",
    "verifiedPdfs = list()\n",
    "guessedPdfs = list()\n",
    "for folder in verifiedPdfPaths:\n",
    "    if os.path.exists(folder):\n",
    "        verifiedPdfs += filePathsIn(folder, SUFFIX)\n",
    "if os.path.exists(OUT_PATH_GUESSED_NAME):\n",
    "    guessedPdfs += filePathsIn(OUT_PATH_GUESSED_NAME)\n",
    "\n",
    "print(\"Checking which PDFs from\",IN_PATH,\"are not also in any of the following folders:\\n\",verifiedPdfPaths)\n",
    "print(\"And also not in:\\n\",OUT_PATH_GUESSED_NAME)\n",
    "verifiedInPdfs = set()\n",
    "guessedInPdfs = set()\n",
    "for inPdf in tqdm(inPdfs):\n",
    "    for verifiedOutPdf in verifiedPdfs:\n",
    "        if inPdf not in verifiedInPdfs:\n",
    "            if cmp(inPdf,verifiedOutPdf, shallow=SHALLOW_FILE_COMPARE):\n",
    "                verifiedInPdfs.add(inPdf)\n",
    "    for guessedOutPdf in guessedPdfs:\n",
    "        if inPdf not in guessedInPdfs:\n",
    "            if cmp(inPdf, guessedOutPdf, shallow = SHALLOW_FILE_COMPARE):\n",
    "                guessedInPdfs.add(inPdf)\n",
    "print(\"Found\",len(verifiedInPdfs),\"PDFs which have already been processed.\")\n",
    "print(\"Found\",len(guessedInPdfs) ,\"PDFs which their name was guessed.\")\n",
    "\n",
    "for inPdf in verifiedInPdfs.union(guessedInPdfs):\n",
    "    inPdfs.remove(inPdf)\n",
    "    \n",
    "print(\"That leaves\",len(inPdfs),\"PDFs to try to name.\")"
   ]
  },
  {
   "cell_type": "markdown",
   "id": "83691121",
   "metadata": {},
   "source": [
    "Make all images on all pages and cache sizes\n",
    "Then sort images by image size"
   ]
  },
  {
   "cell_type": "code",
   "execution_count": null,
   "id": "2055b6d2",
   "metadata": {},
   "outputs": [],
   "source": [
    "allImageAreas = dict()\n",
    "for pdf in tqdm(inPdfs):\n",
    "    someImageAreas = makeImages(pdf)\n",
    "    allImageAreas.update(someImageAreas)"
   ]
  },
  {
   "cell_type": "code",
   "execution_count": null,
   "id": "349b9202",
   "metadata": {},
   "outputs": [],
   "source": [
    "sortedListOfTuples = sorted(allImageAreas.items(), key = lambda x:x[1])\n",
    "sortedListOfPaths = list(x[0] for x in sortedListOfTuples)\n",
    "imagePaths = sortedListOfPaths"
   ]
  },
  {
   "cell_type": "code",
   "execution_count": null,
   "id": "d3e3d100",
   "metadata": {},
   "outputs": [],
   "source": [
    "len(imagePaths)"
   ]
  },
  {
   "cell_type": "markdown",
   "id": "d21e8e99",
   "metadata": {},
   "source": [
    "sort again to use last pages first since most names are on the last pages"
   ]
  },
  {
   "cell_type": "code",
   "execution_count": null,
   "id": "cc27269b",
   "metadata": {},
   "outputs": [],
   "source": [
    "cachedAlready = list()\n",
    "lastPage = list()\n",
    "secondLastPageOfDoubleSided = list()\n",
    "otherOddPages = list()\n",
    "otherEvenPages = list()\n",
    "for path in imagePaths:\n",
    "    pageNum = int(whichPage(path))\n",
    "    numPages = int(getNumPages(path))\n",
    "    pagesFromLast = numPages - pageNum\n",
    "    if os.path.isfile(path.replace(ROTATED_IMG_PATH,TXT_PATH).replace('.png','.txt')): # if text is cached:\n",
    "        cachedAlready.append(path)\n",
    "    elif pagesFromLast <= 1:\n",
    "        # includes last page of single sided and last page of double sided\n",
    "        lastPage.append(path)\n",
    "    elif pagesFromLast == 3:\n",
    "        secondLastPageOfDoubleSided.append(path)\n",
    "    elif isOdd(pageNum):\n",
    "        otherOddPages.append(path)\n",
    "    else:\n",
    "        otherEvenPages.append(path)\n",
    "\n",
    "imagePaths = list()\n",
    "imagePaths = cachedAlready + lastPage + secondLastPageOfDoubleSided + otherOddPages + otherEvenPages"
   ]
  },
  {
   "cell_type": "code",
   "execution_count": null,
   "id": "c63bd1f5",
   "metadata": {},
   "outputs": [],
   "source": [
    "len(imagePaths)"
   ]
  },
  {
   "cell_type": "code",
   "execution_count": null,
   "id": "f7ff20ba",
   "metadata": {},
   "outputs": [],
   "source": [
    "OcrReader = easyocr.Reader(['en'])"
   ]
  },
  {
   "cell_type": "code",
   "execution_count": null,
   "id": "731d018d",
   "metadata": {},
   "outputs": [],
   "source": [
    "for key in TIME_SPENT_ON:\n",
    "    TIME_SPENT_ON[key] = 0"
   ]
  },
  {
   "cell_type": "markdown",
   "id": "b8cc72ba",
   "metadata": {},
   "source": [
    "# Find names\n",
    "for image\n",
    "if not verified:\n",
    "    look for verified name\n",
    "    if not guessed name:\n",
    "        look for guessed name:\n",
    "        \n",
    "        "
   ]
  },
  {
   "cell_type": "code",
   "execution_count": null,
   "id": "5096fd53",
   "metadata": {},
   "outputs": [],
   "source": [
    "print(\"\"\"Reading images (or reading cached texts). \n",
    "    Note that this is done in increasing order of size,\n",
    "    so the given time estimate will often be too optimistic,\n",
    "    especially while reading cached texts. :/\"\"\")\n",
    "allVerifiedNames = dict()\n",
    "for imagePath in tqdm(imagePaths):\n",
    "    inPdfPath = imagePath.replace(ROTATED_IMG_PATH,IN_PATH).split('/page')[0]+'.pdf'\n",
    "    if inPdfPath not in verifiedInPdfs and os.path.exists(inPdfPath): # ignore PDFs which no longer exist\n",
    "        year = getYearFromString(inPdfPath)\n",
    "        yearOutFolder = OUT_PATH_VERIFIED+year+'/'\n",
    "        if year in allVerifiedNames.keys():\n",
    "            verifiedNames = allVerifiedNames[year]\n",
    "        else:\n",
    "            if os.path.exists(yearOutFolder):\n",
    "                verifiedNames = allVerifiedNames[year] = os.listdir(yearOutFolder)\n",
    "            else:\n",
    "                verifiedNames = []\n",
    "        failPdfPath = inPdfPath.replace(IN_PATH,OUT_PATH_FAIL)\n",
    "        result = readImage(imagePath) # reads cached text or runs OCR on image\n",
    "        if len(verifiedNames) > 0:\n",
    "            startTime = time()\n",
    "            verifiedName = nameInListInResult(verifiedNames, result)\n",
    "            TIME_SPENT_ON['INTERPRETING TEXT'] += (time()-startTime)\n",
    "            if verifiedName:\n",
    "                outPath = standardPath = OUT_PATH_VERIFIED+year+'/'+verifiedName+'/'+verifiedName+SUFFIX+'.pdf'\n",
    "                whichScan = 1\n",
    "                while os.path.isfile(outPath):\n",
    "                    same = cmp(inPdfPath, outPath, shallow = False)\n",
    "                    assert not same, \"Please delete duplicates from:\"+IN_PATH\n",
    "                    whichScan += 1\n",
    "                    outPath = standardPath.replace(SUFFIX+'.pdf', SUFFIX+' Scan {}.pdf'.format(i))\n",
    "                verifiedInPdfs.add(inPdfPath)\n",
    "                smartCopy(inPdfPath, outPath)\n",
    "                if os.path.isfile(failPdfPath):\n",
    "                    os.remove(failPdfPath)\n",
    "                if os.path.exists(OUT_PATH_GUESSED_NAME):\n",
    "                    for unverifiedFile in filePathsIn(OUT_PATH_GUESSED_NAME):\n",
    "                        if cmp(outPath, unverifiedFile, SHALLOW_FILE_COMPARE):\n",
    "                            os.remove(unverifiedFile)\n",
    "        # if name not verified, try guessing name for now\n",
    "        if not verifiedName and inPdfPath not in guessedInPdfs:\n",
    "            startTime = time()\n",
    "            guessedName = nameInTranscript(result)\n",
    "            if not guessedName:\n",
    "                guessedName = nameInOrders(result)\n",
    "                if guessedName: guessedName = flipName(guessedName)\n",
    "            TIME_SPENT_ON['INTERPRETING TEXT'] += (time()-startTime)\n",
    "            if not guessedName:\n",
    "                smartCopy(inPdfPath, failPdfPath)\n",
    "            else: # if guessed name\n",
    "                outPath = standardPath = OUT_PATH_GUESSED_NAME+year+'/'+guessedName+'/'+guessedName+SUFFIX+'.pdf'\n",
    "                i = 0\n",
    "                while os.path.isfile(outPath):\n",
    "                    same = cmp(inPdfPath, outPath, shallow = False)\n",
    "                    assert not same, \"Please delete duplicates from:\"+IN_PATH\n",
    "                    i += 1\n",
    "                    outPath = standardPath.replace(SUFFIX+'.pdf', SUFFIX+' Scan {}.pdf'.format(i))\n",
    "                guessedInPdfs.add(inPdfPath)\n",
    "                smartCopy(inPdfPath, outPath)\n",
    "                if os.path.isfile(failPdfPath): os.remove(failPdfPath)\n",
    "print(len(filePathsIn(OUT_PATH_VERIFIED,SUFFIX)),\"files have been named and verified.\")\n",
    "print(len(filePathsIn(OUT_PATH_GUESSED_NAME)),\"files have been named but not verified.\")\n",
    "print(len(filePathsIn(OUT_PATH_FAIL)),\"files could not be read\",\"\\n\")"
   ]
  },
  {
   "cell_type": "code",
   "execution_count": null,
   "id": "69e9d7e4",
   "metadata": {},
   "outputs": [],
   "source": [
    "inPdfPath in guessedInPdfs"
   ]
  },
  {
   "cell_type": "code",
   "execution_count": null,
   "id": "f9384a7b",
   "metadata": {},
   "outputs": [],
   "source": [
    "TIME_SPENT_ON"
   ]
  },
  {
   "cell_type": "code",
   "execution_count": null,
   "id": "83d62668",
   "metadata": {},
   "outputs": [],
   "source": []
  }
 ],
 "metadata": {
  "kernelspec": {
   "display_name": "Python 3 (ipykernel)",
   "language": "python",
   "name": "python3"
  },
  "language_info": {
   "codemirror_mode": {
    "name": "ipython",
    "version": 3
   },
   "file_extension": ".py",
   "mimetype": "text/x-python",
   "name": "python",
   "nbconvert_exporter": "python",
   "pygments_lexer": "ipython3",
   "version": "3.11.4"
  }
 },
 "nbformat": 4,
 "nbformat_minor": 5
}
