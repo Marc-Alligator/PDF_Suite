{
 "cells": [
  {
   "cell_type": "markdown",
   "id": "d1761c19",
   "metadata": {},
   "source": [
    "# Find Duplicate Files\n",
    "## Author: 2d Lt Marc Allerheiligen, USAFA DFVR\n",
    "This program either takes 1 folder and finds duplicates within that folder or takes 2 folders and finds files which are in both folders."
   ]
  },
  {
   "cell_type": "markdown",
   "id": "ee9eabc4",
   "metadata": {},
   "source": [
    "# Parameters and Inputs"
   ]
  },
  {
   "cell_type": "code",
   "execution_count": 1,
   "id": "8a141875",
   "metadata": {},
   "outputs": [
    {
     "name": "stdout",
     "output_type": "stream",
     "text": [
      "\n",
      "    If you would like to find duplicates within 1 folder, type 1 and press enter.\n",
      "    If you would like to find duplicates within 2 folders, type 2 and press enter.\n",
      "\n",
      "    If you choose 2 folders, then this program will not detect 2 of the same in 1 of them.\n",
      "    1\n",
      "Would you like to delete duplicate files?\n",
      "        If so, then type y and press enter.\n",
      "        If not, then type n and press enter.\n",
      "        n\n",
      "What folder would you like to find duplicates in?\n",
      "    If it is PDFs in/, then just press enter.\n",
      "\n"
     ]
    }
   ],
   "source": [
    "'''PARAMETERS'''\n",
    "IN_PATH_1_DEFAULT = \"PDFs in/\"\n",
    "\n",
    "IN_PATH_2_DEFAULT = \"scanned incorrectly/\"\n",
    "\n",
    "numFolders = 0\n",
    "while numFolders not in ['1','2']:\n",
    "    numFolders = input(\"\"\"\n",
    "    If you would like to find duplicates within 1 folder, type 1 and press enter.\n",
    "    If you would like to find duplicates within 2 folders, type 2 and press enter.\n",
    "\n",
    "    If you choose 2 folders, then this program will not detect 2 of the same in 1 of them.\n",
    "    \"\"\")\n",
    "if numFolders == '1':\n",
    "    DELETE = 'unassigned'\n",
    "    while DELETE not in ['y','n']:\n",
    "        DELETE = input(\"\"\"Would you like to delete duplicate files?\n",
    "        If so, then type y and press enter.\n",
    "        If not, then type n and press enter.\n",
    "        \"\"\")\n",
    "    DELETE = {'y':True,'n':False}[DELETE]\n",
    "    IN_PATH_1 = input(\"\"\"What folder would you like to find duplicates in?\n",
    "    If it is \"\"\"+IN_PATH_1_DEFAULT+\", then just press enter.\\n\")\n",
    "    if len(IN_PATH_1) == 0:\n",
    "        IN_PATH_1 = IN_PATH_1_DEFAULT\n",
    "else:\n",
    "    IN_PATH_1 = input(\"\"\"What is the first folder would you like to find duplicates in?\n",
    "    If it is \"\"\"+IN_PATH_1_DEFAULT+\", then just press enter.\\n\")\n",
    "    if len(IN_PATH_1) == 0:\n",
    "        IN_PATH_1 = IN_PATH_1_DEFAULT\n",
    "    IN_PATH_2 = input(\"\"\"What is the first folder would you like to find duplicates in?\n",
    "    If it is \"\"\"+IN_PATH_2_DEFAULT+\", then just press enter.\\n\")\n",
    "    if len(IN_PATH_2) == 0:\n",
    "        IN_PATH_2 = IN_PATH_2_DEFAULT\n",
    "    \n",
    "if '%20' in IN_PATH_1: IN_PATH_1 = IN_PATH_1.replace('%20', ' ')\n",
    "if numFolders == '2':\n",
    "    assert not DELETE\n",
    "    if '%20' in IN_PATH_2: IN_PATH_2 = IN_PATH_2.replace('%20', ' ')"
   ]
  },
  {
   "cell_type": "markdown",
   "id": "eabb30ea",
   "metadata": {},
   "source": [
    "# Libraries"
   ]
  },
  {
   "cell_type": "code",
   "execution_count": 2,
   "id": "6bee4146",
   "metadata": {},
   "outputs": [],
   "source": [
    "from tqdm import tqdm\n",
    "from filecmp import cmp\n",
    "import os"
   ]
  },
  {
   "cell_type": "markdown",
   "id": "103c38e8",
   "metadata": {},
   "source": [
    "# Function"
   ]
  },
  {
   "cell_type": "code",
   "execution_count": 3,
   "id": "5ee836c5",
   "metadata": {},
   "outputs": [],
   "source": [
    "def filePathsIn(folderPath):\n",
    "    if '.' in folderPath:\n",
    "        return [folderPath]\n",
    "    if not folderPath[-1] == '/':\n",
    "        folderPath += '/'\n",
    "    if not os.path.exists(folderPath):\n",
    "        return list()\n",
    "    paths = list()\n",
    "    for name in os.listdir(folderPath):\n",
    "        if '.' not in name:\n",
    "            subFolderPath = folderPath + name + '/'\n",
    "            paths.extend(filePathsIn(subFolderPath))\n",
    "        else:\n",
    "            filePath = folderPath + name\n",
    "            paths.append(filePath)\n",
    "    return paths"
   ]
  },
  {
   "cell_type": "code",
   "execution_count": 4,
   "id": "e64144c6",
   "metadata": {},
   "outputs": [
    {
     "name": "stdout",
     "output_type": "stream",
     "text": [
      "Finding files...\n",
      "1294 files found.\n",
      "Checking for duplicates...\n"
     ]
    },
    {
     "name": "stderr",
     "output_type": "stream",
     "text": [
      "100%|██████████| 1294/1294 [01:58<00:00, 10.92it/s]"
     ]
    },
    {
     "name": "stdout",
     "output_type": "stream",
     "text": [
      "\n",
      "Done.\n"
     ]
    },
    {
     "name": "stderr",
     "output_type": "stream",
     "text": [
      "\n"
     ]
    }
   ],
   "source": [
    "print(\"Finding files...\")\n",
    "files1 = filePathsIn(IN_PATH_1)\n",
    "print(len(files1),\"files found.\")\n",
    "if numFolders == '2':\n",
    "    files2 = filePathsIn(IN_PATH_2)\n",
    "    print(len(files2)),\"files found.\"\n",
    "else:\n",
    "    files2 = files1\n",
    "\n",
    "print(\"Checking for duplicates...\")\n",
    "for file1 in tqdm(files1):\n",
    "    for file2 in files2:\n",
    "        if file1 != file2: # comparing file path, not actual file\n",
    "            if os.path.exists(file1) and os.path.exists(file2):\n",
    "                if cmp(file1,file2):\n",
    "                    print(file1,\"is the same as\")\n",
    "                    print(file2+\".\\n\")\n",
    "                    if numFolders == 1:\n",
    "                        if len(file1) > len(file2):\n",
    "                            keep, delete = file1, file2\n",
    "                        elif len(file1) < len(file2):\n",
    "                            delete, keep, file1, file2\n",
    "                        elif file1 < file2:\n",
    "                            keep, delete = file1, file2\n",
    "                        elif file1 > file2:\n",
    "                            delete, keep = file1, file2\n",
    "                        else:\n",
    "                            keep, delete = file1, file2\n",
    "                        if DELETE:\n",
    "                            print(\"deleting:\",delete)\n",
    "                            print(\"but keeping identical file:\",keep,\"\\n\")\n",
    "                            os.remove(delete)\n",
    "                        else:\n",
    "                            print(\"If I were set to delete, then I would delete:\",delete)\n",
    "                            print(\"But I would keep:\",keep)\n",
    "print(\"\\nDone.\")"
   ]
  },
  {
   "cell_type": "code",
   "execution_count": null,
   "id": "bd4a91c3",
   "metadata": {},
   "outputs": [],
   "source": []
  }
 ],
 "metadata": {
  "kernelspec": {
   "display_name": "Python 3 (ipykernel)",
   "language": "python",
   "name": "python3"
  },
  "language_info": {
   "codemirror_mode": {
    "name": "ipython",
    "version": 3
   },
   "file_extension": ".py",
   "mimetype": "text/x-python",
   "name": "python",
   "nbconvert_exporter": "python",
   "pygments_lexer": "ipython3",
   "version": "3.11.4"
  }
 },
 "nbformat": 4,
 "nbformat_minor": 5
}
