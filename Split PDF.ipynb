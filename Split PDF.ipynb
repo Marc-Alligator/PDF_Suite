{
 "cells": [
  {
   "cell_type": "markdown",
   "id": "6e08fc83",
   "metadata": {},
   "source": [
    "# Split a PDF\n",
    "## Author: 2d Lt Marc Allerheiligen, USAFA DFVR\n",
    "This program take a PDF of all Transcripts\n",
    "and splits it into a separate PDF for each student."
   ]
  },
  {
   "cell_type": "markdown",
   "id": "ea41bf57",
   "metadata": {},
   "source": [
    "## Library Installation"
   ]
  },
  {
   "cell_type": "markdown",
   "id": "2c51ea17",
   "metadata": {},
   "source": [
    "Library installation must be run once per machine this code is used on.  \n",
    "There is no problem with running the whole file, but if the libraries are installed, then the program will run faster if you only run code after library installation."
   ]
  },
  {
   "cell_type": "code",
   "execution_count": null,
   "id": "229e2eeb",
   "metadata": {},
   "outputs": [],
   "source": [
    "!pip install pypdf2\n",
    "!pip install pycryptodome"
   ]
  },
  {
   "cell_type": "markdown",
   "id": "d6be7bc9",
   "metadata": {},
   "source": [
    "# Parameters and Inputs"
   ]
  },
  {
   "cell_type": "code",
   "execution_count": null,
   "id": "34aa5589",
   "metadata": {},
   "outputs": [],
   "source": [
    "REMOVE_FROM_NAME = [\n",
    "    ]\n",
    "OUT_FOLDER = \"PDFs named correctly/\"\n",
    "default_doc_path = \"in.pdf\"\n",
    "\n",
    "doc_path = input(\n",
    "\"\"\"Make sure that the file with all Transcripts\n",
    "is in the same folder as this program.\n",
    "                 \n",
    "What is the name of the file with all Transcripts?\n",
    "If it is \"\"\"+default_doc_path+\" then just press enter.\")\n",
    "if len(doc_path) == 0:\n",
    "    doc_path = default_doc_path"
   ]
  },
  {
   "cell_type": "markdown",
   "id": "6af1b75a",
   "metadata": {},
   "source": [
    "# Libraries"
   ]
  },
  {
   "cell_type": "code",
   "execution_count": null,
   "id": "9bc91861",
   "metadata": {},
   "outputs": [],
   "source": [
    "from PyPDF2 import PdfWriter, PdfReader\n",
    "from os import path, makedirs\n",
    "from tqdm import tqdm"
   ]
  },
  {
   "cell_type": "markdown",
   "id": "4b3fc653",
   "metadata": {},
   "source": [
    "# Functions"
   ]
  },
  {
   "cell_type": "code",
   "execution_count": null,
   "id": "0807473d",
   "metadata": {},
   "outputs": [],
   "source": [
    "def flipName(nameIn):\n",
    "    assert not ',' in nameIn, nameIn\n",
    "    nameIn = nameIn.replace('.','')\n",
    "    for badStr in REMOVE_FROM_NAME:\n",
    "        nameIn = nameIn.replace(badStr, '')\n",
    "    while '  ' in nameIn:\n",
    "        nameIn = nameIn.replace('  ',' ')\n",
    "    split = nameIn.strip().split()\n",
    "    if len(split) == 1:\n",
    "        return split[0]\n",
    "    elif len(split) == 2:\n",
    "        return split[-1]+', '+split[0]\n",
    "    elif len(split) == 3:\n",
    "        return split[-1]+', '+split[0]+' '+split[1]\n",
    "    elif len(split) == 4:\n",
    "        return split[-2]+' '+split[-1]+', '+split[0]+' '+split[1]\n",
    "    else:\n",
    "        return nameIn"
   ]
  },
  {
   "cell_type": "markdown",
   "id": "53379631",
   "metadata": {},
   "source": [
    "# Main"
   ]
  },
  {
   "cell_type": "code",
   "execution_count": null,
   "id": "74925c95",
   "metadata": {},
   "outputs": [],
   "source": [
    "reader = PdfReader(open(doc_path, \"rb\"))\n",
    "\n",
    "print(\"Reading names from pages...\")\n",
    "pages = dict()\n",
    "numPages = len(reader.pages)\n",
    "for pageNum in tqdm(range(numPages)):\n",
    "    page = reader.pages[pageNum]\n",
    "    text = page.extract_text()\n",
    "    \n",
    "    name_and_after = text.split(\"Name:\")[1]\n",
    "    name = name_and_after.split(\"\\n\")[0]\n",
    "    name = name.strip()\n",
    "    if name in pages.keys():\n",
    "        pages[name].append(pageNum)\n",
    "    else:\n",
    "        pages[name] = [pageNum]\n",
    "print(\"Names are read from all pages.\")\n",
    "\n",
    "# for every person, find their pages and export them\n",
    "print(\"Saving files...\")\n",
    "if not path.exists(OUT_FOLDER):\n",
    "    print(\"Creating folder...\")\n",
    "    makedirs(OUT_FOLDER)\n",
    "for name in tqdm(pages.keys()):\n",
    "    output = PdfWriter()\n",
    "    for pageNum in pages[name]:\n",
    "        output.add_page(reader.pages[pageNum])\n",
    "    name = flipName(name)\n",
    "    folderPath = OUT_FOLDER+name+'/'\n",
    "    if not path.isdir(folderPath): makedirs(folderPath)\n",
    "    fileName = name+' (T)'\n",
    "    fileName = fileName + '.pdf'\n",
    "    filePath = folderPath+fileName\n",
    "    with open(filePath,'wb') as outputStream:\n",
    "        output.write(outputStream)\n",
    "print(\"Done.  Transcripts are in a folder called\")\n",
    "print(OUT_FOLDER)"
   ]
  },
  {
   "cell_type": "code",
   "execution_count": null,
   "id": "da5f6be0",
   "metadata": {},
   "outputs": [],
   "source": []
  }
 ],
 "metadata": {
  "kernelspec": {
   "display_name": "Python 3 (ipykernel)",
   "language": "python",
   "name": "python3"
  },
  "language_info": {
   "codemirror_mode": {
    "name": "ipython",
    "version": 3
   },
   "file_extension": ".py",
   "mimetype": "text/x-python",
   "name": "python",
   "nbconvert_exporter": "python",
   "pygments_lexer": "ipython3",
   "version": "3.11.4"
  }
 },
 "nbformat": 4,
 "nbformat_minor": 5
}
